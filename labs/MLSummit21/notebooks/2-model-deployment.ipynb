{
 "cells": [
  {
   "cell_type": "markdown",
   "metadata": {},
   "source": [
    "<font color=gray>Oracle Cloud Infrastructure Data Science Demo Notebook\n",
    "\n",
    "Copyright (c) 2021 Oracle, Inc.<br>\n",
    "Licensed under the Universal Permissive License v 1.0 as shown at https://oss.oracle.com/licenses/upl.\n",
    "</font>"
   ]
  },
  {
   "cell_type": "markdown",
   "metadata": {},
   "source": [
    "# Deploy and Invoke your model through Data Science Model Deployment \n",
    "\n",
    "**<font color='red'>NOTE: This notebook was run in the TensorFlow 2.7 for CPU (slug: `tensorflow27_p37_cpu_v1`) conda environment with ADS version 2.5.10. Upgrade your version of ADS (see cell below) and restart your kernel.</font>**"
   ]
  },
  {
   "cell_type": "code",
   "execution_count": null,
   "metadata": {},
   "outputs": [],
   "source": [
    "#!pip install oracle-ads==2.5.10"
   ]
  },
  {
   "cell_type": "code",
   "execution_count": null,
   "metadata": {},
   "outputs": [],
   "source": [
    "import os\n",
    "import requests\n",
    "import oci\n",
    "from oci.signer import Signer\n",
    "\n",
    "from ads.model.deployment import ModelDeployer, ModelDeploymentProperties"
   ]
  },
  {
   "cell_type": "code",
   "execution_count": null,
   "metadata": {},
   "outputs": [],
   "source": [
    "# Using Resource Principals for authn/authz : \n",
    "\n",
    "import ads \n",
    "ads.set_auth(auth='resource_principal')"
   ]
  },
  {
   "cell_type": "markdown",
   "metadata": {},
   "source": [
    "## Deploy your Model with ADS"
   ]
  },
  {
   "cell_type": "markdown",
   "metadata": {},
   "source": [
    "In the cell below, you specify the project OCID and the compartment OCID in which the model deployment resource will be created: "
   ]
  },
  {
   "cell_type": "code",
   "execution_count": null,
   "metadata": {},
   "outputs": [],
   "source": [
    "project_id = os.environ['PROJECT_OCID']\n",
    "compartment_id = os.environ['NB_SESSION_COMPARTMENT_OCID']"
   ]
  },
  {
   "cell_type": "markdown",
   "metadata": {},
   "source": [
    "Paste the model OCID of the model you want to deploy in the cell below. If you ran the notebook `1-model-training.ipynb`, copy the model OCID that is printed at the end of the notebook. Or copy the model OCID from the OCI console directly. "
   ]
  },
  {
   "cell_type": "code",
   "execution_count": null,
   "metadata": {},
   "outputs": [],
   "source": [
    "your_model_ocid = ''"
   ]
  },
  {
   "cell_type": "markdown",
   "metadata": {},
   "source": [
    "Next we create a `deployment` instance by calling ADS `ModelDeployer()` and create a deployment. **The cell below takes a few minutes to complete**. ADS will give you a progress bar to track the progress of your deployment. You can also keep track of the deployment in the OCI console directly. Once the model deployment is ready, ADS will tell you that the deployment is in an \"ACTIVE\" state. The progress bar will be red and marked as \"DONE\".  \n",
    "\n",
    "We are using a simple deployment configuration with a single VM.Standard2.1 shape. Feel free to change the shape size or the instance count. More details about the various options that are available (including changing the load balancer badwidth size) can be found [here](https://docs.oracle.com/en-us/iaas/tools/ads-sdk/latest/user_guide/model_deployment/model_deployment.html). "
   ]
  },
  {
   "cell_type": "code",
   "execution_count": null,
   "metadata": {},
   "outputs": [],
   "source": [
    "deployer = ModelDeployer()\n",
    "\n",
    "deployment = deployer.deploy(\n",
    "    model_id=your_model_ocid,\n",
    "    display_name=\"Attrition Prediction Deployment\",\n",
    "    instance_shape=\"VM.Standard2.1\",\n",
    "    instance_count=1,\n",
    "    project_id=project_id,\n",
    "    compartment_id=compartment_id\n",
    ")\n",
    "\n",
    "deployment_id = deployment.model_deployment_id\n",
    "print(f\"Deployment {deployment_id} is {deployment.state.name}\")"
   ]
  },
  {
   "cell_type": "markdown",
   "metadata": {},
   "source": [
    "# Invoke the Model HTTP Endpoint with OCI Python SDK and ADS \n",
    "\n",
    "Once a model is successfully deployed, the next step is to invoke the model `/predict` endpoint. \n",
    "\n",
    "In the cell below, we define a JSON payload that we pass to the model endpoint. This payload corresponds to the first five rows of the training dataset defined in notebook `1-model-training.ipynb`. "
   ]
  },
  {
   "cell_type": "code",
   "execution_count": null,
   "metadata": {},
   "outputs": [],
   "source": [
    "input_data='{\"Age\":{\"0\":42,\"1\":50,\"2\":38,\"3\":34,\"5\":33},\"TravelForWork\":{\"0\":\"infrequent\",\"1\":\"often\",\"2\":\"infrequent\",\"3\":\"often\",\"5\":\"often\"},\"SalaryLevel\":{\"0\":5054,\"1\":1278,\"2\":6296,\"3\":6384,\"5\":4608},\"JobFunction\":{\"0\":\"Product Management\",\"1\":\"Software Developer\",\"2\":\"Software Developer\",\"3\":\"Software Developer\",\"5\":\"Software Developer\"},\"CommuteLength\":{\"0\":2,\"1\":9,\"2\":3,\"3\":4,\"5\":3},\"EducationalLevel\":{\"0\":\"L2\",\"1\":\"L1\",\"2\":\"L2\",\"3\":\"L4\",\"5\":\"L2\"},\"EducationField\":{\"0\":\"Life Sciences\",\"1\":\"Life Sciences\",\"2\":\"Other\",\"3\":\"Life Sciences\",\"5\":\"Life Sciences\"},\"EnvironmentSatisfaction\":{\"0\":2,\"1\":3,\"2\":4,\"3\":4,\"5\":4},\"Gender\":{\"0\":\"Female\",\"1\":\"Male\",\"2\":\"Male\",\"3\":\"Female\",\"5\":\"Male\"},\"HourlyRate\":{\"0\":94,\"1\":61,\"2\":92,\"3\":56,\"5\":79},\"JobInvolvement\":{\"0\":3,\"1\":2,\"2\":2,\"3\":3,\"5\":3},\"JobRole\":{\"0\":\"Sales Executive\",\"1\":\"Research Scientist\",\"2\":\"Laboratory Technician\",\"3\":\"Research Scientist\",\"5\":\"Laboratory Technician\"},\"JobSatisfaction\":{\"0\":4,\"1\":2,\"2\":3,\"3\":3,\"5\":4},\"MaritalStatus\":{\"0\":\"Single\",\"1\":\"Married\",\"2\":\"Single\",\"3\":\"Married\",\"5\":\"Single\"},\"MonthlyRate\":{\"0\":19479,\"1\":24907,\"2\":2396,\"3\":23159,\"5\":11864},\"NumCompaniesWorked\":{\"0\":8,\"1\":1,\"2\":6,\"3\":1,\"5\":0},\"OverTime\":{\"0\":\"Yes\",\"1\":\"No\",\"2\":\"Yes\",\"3\":\"Yes\",\"5\":\"No\"},\"PercentSalaryHike\":{\"0\":11,\"1\":23,\"2\":15,\"3\":11,\"5\":13},\"PerformanceRating\":{\"0\":3,\"1\":4,\"2\":3,\"3\":3,\"5\":3},\"RelationshipSatisfaction\":{\"0\":1,\"1\":4,\"2\":2,\"3\":3,\"5\":3},\"StockOptionLevel\":{\"0\":0,\"1\":1,\"2\":0,\"3\":0,\"5\":0},\"YearsinIndustry\":{\"0\":8,\"1\":10,\"2\":7,\"3\":8,\"5\":8},\"TrainingTimesLastYear\":{\"0\":0,\"1\":3,\"2\":3,\"3\":3,\"5\":2},\"WorkLifeBalance\":{\"0\":1,\"1\":3,\"2\":3,\"3\":3,\"5\":2},\"YearsAtCurrentLevel\":{\"0\":4,\"1\":7,\"2\":0,\"3\":7,\"5\":7},\"YearsSinceLastPromotion\":{\"0\":0,\"1\":1,\"2\":0,\"3\":3,\"5\":3},\"name\":{\"0\":\"Tracy Moore\",\"1\":\"Andrew Hoover\",\"2\":\"Julie Bell\",\"3\":\"Thomas Adams\",\"5\":\"Rhonda Grant\"}}'"
   ]
  },
  {
   "cell_type": "markdown",
   "metadata": {},
   "source": [
    "## Invoking your Model with the OCI Python SDK and the `requests` Python Library"
   ]
  },
  {
   "cell_type": "markdown",
   "metadata": {},
   "source": [
    "Next, **paste the model deployment uri in the cell below**. You can find the uri in the OCI console in the details page of your model deployment under \"Resources > Invoking Your Model\".  \n",
    "\n",
    "This cell also lets you configuration the method of authentication you want to use with your model endpoint. Two options are available: \n",
    "* user principal (aka config + key approach) \n",
    "* resource principal \n",
    "\n",
    "The cell defaults to resource principal. If you prefer to use user principal, set the flag `usign_rps` to `False`. "
   ]
  },
  {
   "cell_type": "code",
   "execution_count": null,
   "metadata": {},
   "outputs": [],
   "source": [
    "# Using resource principals. You can alternatively use the config+key flow. \n",
    "using_rps = True\n",
    "# Replace with the uri of your model deployment: \n",
    "uri = \"\"\n",
    "\n",
    "if using_rps: # using resource principal:     \n",
    "    auth = oci.auth.signers.get_resource_principals_signer()\n",
    "else: # using config + key: \n",
    "    config = oci.config.from_file(\"~/.oci/config\") # replace with the location of your oci config file\n",
    "    auth = Signer(\n",
    "        tenancy=config['tenancy'],\n",
    "        user=config['user'],\n",
    "        fingerprint=config['fingerprint'],\n",
    "        private_key_file_location=config['key_file'],\n",
    "        pass_phrase=config['pass_phrase'])"
   ]
  },
  {
   "cell_type": "markdown",
   "metadata": {},
   "source": [
    "Finally we submit a request to the model endpoint using the payload defined in `input_data`. \n",
    "\n",
    "The model trained in notebook `1-model-training.ipynb` should return values `[True, False, True, False, False]`. "
   ]
  },
  {
   "cell_type": "code",
   "execution_count": null,
   "metadata": {},
   "outputs": [],
   "source": [
    "%%time \n",
    "\n",
    "# submit request to model endpoint: \n",
    "requests.post(uri, json=input_data, auth=auth).json()"
   ]
  },
  {
   "cell_type": "markdown",
   "metadata": {},
   "source": [
    "## Invoking with `ADS`\n",
    "\n",
    "You can load pre-created model deployments in ADS using the `get_model_deployment()` method of the `ModelDeployer` object. Simply pass the OCID of the model deployment you want to invoke. "
   ]
  },
  {
   "cell_type": "code",
   "execution_count": null,
   "metadata": {},
   "outputs": [],
   "source": [
    "deployer = ModelDeployer()\n",
    "# Replace with your model deployment OCID value: \n",
    "model_deployment_ocid = \"\"\n",
    "deployment = deployer.get_model_deployment(model_deployment_ocid)"
   ]
  },
  {
   "cell_type": "code",
   "execution_count": null,
   "metadata": {},
   "outputs": [],
   "source": [
    "deployment.properties"
   ]
  },
  {
   "cell_type": "code",
   "execution_count": null,
   "metadata": {},
   "outputs": [],
   "source": [
    "%%time \n",
    "deployment.predict(input_data)"
   ]
  },
  {
   "cell_type": "markdown",
   "metadata": {},
   "source": [
    "ADS also has a bunch of useful methods to make it easy for you to interact with your model deployment. The `logs` feature is quite useful to access your predict and access logs if you configured them. For example: "
   ]
  },
  {
   "cell_type": "code",
   "execution_count": null,
   "metadata": {},
   "outputs": [],
   "source": [
    "#deployment.show_logs(log_type=\"access\", limit=10)\n",
    "# or as a dataframe: \n",
    "#predict_logs = deployment.logs(log_type=\"predict\", limit=3)\n",
    "\n",
    "#For more, see: https://docs.oracle.com/en-us/iaas/tools/ads-sdk/latest/user_guide/model_deployment/logs.html"
   ]
  }
 ],
 "metadata": {
  "celltoolbar": "Raw Cell Format",
  "kernelspec": {
   "display_name": "Python [conda env:tensorflow27_p37_cpu_v1]",
   "language": "python",
   "name": "conda-env-tensorflow27_p37_cpu_v1-py"
  },
  "language_info": {
   "codemirror_mode": {
    "name": "ipython",
    "version": 3
   },
   "file_extension": ".py",
   "mimetype": "text/x-python",
   "name": "python",
   "nbconvert_exporter": "python",
   "pygments_lexer": "ipython3",
   "version": "3.7.12"
  },
  "pycharm": {
   "stem_cell": {
    "cell_type": "raw",
    "metadata": {
     "collapsed": false
    },
    "source": []
   }
  }
 },
 "nbformat": 4,
 "nbformat_minor": 4
}
